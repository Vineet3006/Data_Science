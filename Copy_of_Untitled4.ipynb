{
  "nbformat": 4,
  "nbformat_minor": 0,
  "metadata": {
    "colab": {
      "name": "Copy of Untitled4.ipynb",
      "provenance": [],
      "collapsed_sections": [],
      "toc_visible": true,
      "authorship_tag": "ABX9TyMs+WvTOwuqYp8Z/PK5SLra",
      "include_colab_link": true
    },
    "kernelspec": {
      "name": "python3",
      "display_name": "Python 3"
    }
  },
  "cells": [
    {
      "cell_type": "markdown",
      "metadata": {
        "id": "view-in-github",
        "colab_type": "text"
      },
      "source": [
        "<a href=\"https://colab.research.google.com/github/Vineet3006/Data_Science/blob/main/Copy_of_Untitled4.ipynb\" target=\"_parent\"><img src=\"https://colab.research.google.com/assets/colab-badge.svg\" alt=\"Open In Colab\"/></a>"
      ]
    },
    {
      "cell_type": "code",
      "metadata": {
        "id": "Whm5VS0JTU9c"
      },
      "source": [
        "#Importing libraries\r\n",
        "import ast\r\n",
        "import datetime\r\n",
        "import numpy as np\r\n",
        "import pandas as pd\r\n",
        "import seaborn as sns\r\n",
        "import matplotlib.pyplot as plt"
      ],
      "execution_count": 55,
      "outputs": []
    },
    {
      "cell_type": "code",
      "metadata": {
        "id": "FDyrUO6DZeOZ"
      },
      "source": [
        "data = pd.read_csv('train.csv')"
      ],
      "execution_count": 56,
      "outputs": []
    },
    {
      "cell_type": "code",
      "metadata": {
        "id": "bg4JERwUZoUN"
      },
      "source": [
        "data.head(5)"
      ],
      "execution_count": null,
      "outputs": []
    },
    {
      "cell_type": "code",
      "metadata": {
        "colab": {
          "base_uri": "https://localhost:8080/"
        },
        "id": "VRb8v1HcUd6B",
        "outputId": "55fb24df-1407-4a37-dbc1-a1261eb1209e"
      },
      "source": [
        "data.shape"
      ],
      "execution_count": null,
      "outputs": [
        {
          "output_type": "execute_result",
          "data": {
            "text/plain": [
              "(3000, 23)"
            ]
          },
          "metadata": {
            "tags": []
          },
          "execution_count": 64
        }
      ]
    },
    {
      "cell_type": "code",
      "metadata": {
        "colab": {
          "base_uri": "https://localhost:8080/"
        },
        "id": "9vbw7BaFRuWT",
        "outputId": "0b01262f-3a47-4f72-c62c-51e98d9cb681"
      },
      "source": [
        "data.columns"
      ],
      "execution_count": 6,
      "outputs": [
        {
          "output_type": "execute_result",
          "data": {
            "text/plain": [
              "Index(['id', 'belongs_to_collection', 'budget', 'genres', 'homepage',\n",
              "       'imdb_id', 'original_language', 'original_title', 'overview',\n",
              "       'popularity', 'poster_path', 'production_companies',\n",
              "       'production_countries', 'release_date', 'runtime', 'spoken_languages',\n",
              "       'status', 'tagline', 'title', 'Keywords', 'cast', 'crew', 'revenue'],\n",
              "      dtype='object')"
            ]
          },
          "metadata": {
            "tags": []
          },
          "execution_count": 6
        }
      ]
    },
    {
      "cell_type": "code",
      "metadata": {
        "id": "RmID_K3lQlRf"
      },
      "source": [
        "#Droping columns\r\n",
        "\r\n",
        "data = data.drop([\"homepage\", \"imdb_id\", \"original_title\",\"poster_path\", \"status\", \"Keywords\", \"spoken_languages\", \"tagline\", \"title\"], axis=1)"
      ],
      "execution_count": 57,
      "outputs": []
    },
    {
      "cell_type": "code",
      "metadata": {
        "colab": {
          "base_uri": "https://localhost:8080/"
        },
        "id": "n5PdK6DRR80K",
        "outputId": "5c2b6230-4160-448d-e459-e1d5d79e9083"
      },
      "source": [
        "len(data.columns)"
      ],
      "execution_count": 6,
      "outputs": [
        {
          "output_type": "execute_result",
          "data": {
            "text/plain": [
              "14"
            ]
          },
          "metadata": {
            "tags": []
          },
          "execution_count": 6
        }
      ]
    },
    {
      "cell_type": "code",
      "metadata": {
        "colab": {
          "base_uri": "https://localhost:8080/"
        },
        "id": "sK_WKm1_SByL",
        "outputId": "94e28580-a5bd-47b3-8550-7c132f022fbc"
      },
      "source": [
        "data.dtypes"
      ],
      "execution_count": null,
      "outputs": [
        {
          "output_type": "execute_result",
          "data": {
            "text/plain": [
              "id                         int64\n",
              "belongs_to_collection     object\n",
              "budget                     int64\n",
              "genres                    object\n",
              "original_language         object\n",
              "overview                  object\n",
              "popularity               float64\n",
              "production_companies      object\n",
              "production_countries      object\n",
              "release_date              object\n",
              "runtime                  float64\n",
              "cast                      object\n",
              "crew                      object\n",
              "revenue                    int64\n",
              "dtype: object"
            ]
          },
          "metadata": {
            "tags": []
          },
          "execution_count": 68
        }
      ]
    },
    {
      "cell_type": "code",
      "metadata": {
        "colab": {
          "base_uri": "https://localhost:8080/"
        },
        "id": "HMe5gRwWi9xQ",
        "outputId": "7ddfa212-de18-45e4-91f4-7a9eeb088f7a"
      },
      "source": [
        "data.shape"
      ],
      "execution_count": null,
      "outputs": [
        {
          "output_type": "execute_result",
          "data": {
            "text/plain": [
              "(3000, 14)"
            ]
          },
          "metadata": {
            "tags": []
          },
          "execution_count": 69
        }
      ]
    },
    {
      "cell_type": "code",
      "metadata": {
        "colab": {
          "base_uri": "https://localhost:8080/"
        },
        "id": "SS4xhwX1gKzR",
        "outputId": "f6203881-545f-48e5-8a85-f8310ada890b"
      },
      "source": [
        "#Checking missing values\r\n",
        "\r\n",
        "data.isna().sum()"
      ],
      "execution_count": 8,
      "outputs": [
        {
          "output_type": "execute_result",
          "data": {
            "text/plain": [
              "id                          0\n",
              "belongs_to_collection    2396\n",
              "budget                      0\n",
              "genres                      7\n",
              "original_language           0\n",
              "overview                    8\n",
              "popularity                  0\n",
              "production_companies      156\n",
              "production_countries       55\n",
              "release_date                0\n",
              "runtime                     2\n",
              "cast                       13\n",
              "crew                       16\n",
              "revenue                     0\n",
              "dtype: int64"
            ]
          },
          "metadata": {
            "tags": []
          },
          "execution_count": 8
        }
      ]
    },
    {
      "cell_type": "code",
      "metadata": {
        "id": "_mbLjJw5U8XQ"
      },
      "source": [
        "#Droping belongs_to_collection column\r\n",
        "\r\n",
        "data = data.drop([\"belongs_to_collection\"], axis=1)"
      ],
      "execution_count": 58,
      "outputs": []
    },
    {
      "cell_type": "code",
      "metadata": {
        "id": "nZ2UuV3_jrXP"
      },
      "source": [
        "# droping data with null values  \r\n",
        "\r\n",
        "data = data.dropna() \r\n",
        "  \r\n",
        "data = data.reset_index(drop = True) "
      ],
      "execution_count": 59,
      "outputs": []
    },
    {
      "cell_type": "code",
      "metadata": {
        "colab": {
          "base_uri": "https://localhost:8080/"
        },
        "id": "QHcmtboxjU-x",
        "outputId": "c1ba8901-4565-4703-f98c-f1efb3d3adbd"
      },
      "source": [
        "data.shape"
      ],
      "execution_count": null,
      "outputs": [
        {
          "output_type": "execute_result",
          "data": {
            "text/plain": [
              "(2812, 13)"
            ]
          },
          "metadata": {
            "tags": []
          },
          "execution_count": 74
        }
      ]
    },
    {
      "cell_type": "code",
      "metadata": {
        "id": "N9ioWgSfcaKZ"
      },
      "source": [
        "#changing to datetime data type \r\n",
        "\r\n",
        "data [\"release_date\"] = pd.to_datetime(data [\"release_date\"], errors='coerce')"
      ],
      "execution_count": 60,
      "outputs": []
    },
    {
      "cell_type": "code",
      "metadata": {
        "id": "ejo5Vut3d_gI"
      },
      "source": [
        "data['year'] = data['release_date'].dt.year"
      ],
      "execution_count": 61,
      "outputs": []
    },
    {
      "cell_type": "code",
      "metadata": {
        "id": "AlJQd5G_nTIc"
      },
      "source": [
        "data.dtypes"
      ],
      "execution_count": null,
      "outputs": []
    },
    {
      "cell_type": "code",
      "metadata": {
        "id": "oPyN8nDtkTm3"
      },
      "source": [
        "#using ast to convert dict in string to dict only\r\n",
        "\r\n",
        "import ast\r\n",
        "data['genres'] = data['genres'].map(lambda x: ast.literal_eval(x))\r\n",
        "data['cast'] = data['cast'].map(lambda x: ast.literal_eval(x))\r\n",
        "data['crew'] = data['crew'].map(lambda x: ast.literal_eval(x))\r\n",
        "data[\"production_companies\"] = data[\"production_companies\"].map(lambda x: ast.literal_eval(x))\r\n",
        "data[\"production_countries\"] = data[\"production_countries\"] .map(lambda x: ast.literal_eval(x))"
      ],
      "execution_count": 62,
      "outputs": []
    },
    {
      "cell_type": "code",
      "metadata": {
        "id": "V9eHoTIkkUCZ"
      },
      "source": [
        "#function to get column details\r\n",
        "\r\n",
        "def get_details(x, y):\r\n",
        "    dt = []\r\n",
        "    st = \" \"\r\n",
        "    for i in x:\r\n",
        "      dt.append(i.get(y))\r\n",
        "\r\n",
        "    if dt == []:\r\n",
        "      return st\r\n",
        "    else:\r\n",
        "        return (st.join(dt))"
      ],
      "execution_count": 63,
      "outputs": []
    },
    {
      "cell_type": "code",
      "metadata": {
        "id": "yU6MrxIcxMT4"
      },
      "source": [
        "#getting column details in the list\r\n",
        "\r\n",
        "data[\"genres_list\"] = data[\"genres\"].map(lambda x: get_details(x, \"name\"))\r\n",
        "data['cast_list'] = data['cast'].map(lambda x: get_details(x, \"name\"))\r\n",
        "data['crew_list'] = data['crew'].map(lambda x: get_details(x, \"name\"))\r\n",
        "data[\"production_companies_list\"] = data[\"production_companies\"].map(lambda x: get_details(x, \"name\"))\r\n",
        "data[\"production_countries_list\"] = data[\"production_countries\"] .map(lambda x: get_details(x, \"name\"))"
      ],
      "execution_count": 64,
      "outputs": []
    },
    {
      "cell_type": "code",
      "metadata": {
        "colab": {
          "base_uri": "https://localhost:8080/"
        },
        "id": "nxv_iSF_okkm",
        "outputId": "f6937ac2-295f-4ff1-e3f1-34c11b909d56"
      },
      "source": [
        "data['genres_list'].head(2)"
      ],
      "execution_count": 15,
      "outputs": [
        {
          "output_type": "execute_result",
          "data": {
            "text/plain": [
              "0                         Comedy\n",
              "1    Comedy Drama Family Romance\n",
              "Name: genres_list, dtype: object"
            ]
          },
          "metadata": {
            "tags": []
          },
          "execution_count": 15
        }
      ]
    },
    {
      "cell_type": "code",
      "metadata": {
        "colab": {
          "base_uri": "https://localhost:8080/",
          "height": 307
        },
        "id": "STBvYZyXh75y",
        "outputId": "faed80da-e858-4bbd-af5e-a6b7a258151b"
      },
      "source": [
        "# relationship between Budget and Revenue\r\n",
        "\r\n",
        "sns.regplot(x=\"budget\", y=\"revenue\", data=data, color = 'red')"
      ],
      "execution_count": 16,
      "outputs": [
        {
          "output_type": "execute_result",
          "data": {
            "text/plain": [
              "<matplotlib.axes._subplots.AxesSubplot at 0x7fdc62ac4fd0>"
            ]
          },
          "metadata": {
            "tags": []
          },
          "execution_count": 16
        },
        {
          "output_type": "display_data",
          "data": {
            "image/png": "[encoded data removed]",
            "text/plain": [
              "<Figure size 432x288 with 1 Axes>"
            ]
          },
          "metadata": {
            "tags": [],
            "needs_background": "light"
          }
        }
      ]
    },
    {
      "cell_type": "code",
      "metadata": {
        "id": "Ofo_Phteh8E9",
        "colab": {
          "base_uri": "https://localhost:8080/",
          "height": 307
        },
        "outputId": "9917d015-0a69-4d07-872e-ad8221164254"
      },
      "source": [
        "# relationship between Runtime and Revenue\r\n",
        "\r\n",
        "sns.regplot(x=\"runtime\", y=\"revenue\", data=data, color = 'green')"
      ],
      "execution_count": null,
      "outputs": [
        {
          "output_type": "execute_result",
          "data": {
            "text/plain": [
              "<matplotlib.axes._subplots.AxesSubplot at 0x7f7e5d487f60>"
            ]
          },
          "metadata": {
            "tags": []
          },
          "execution_count": 107
        },
        {
          "output_type": "display_data",
          "data": {
            "image/png": "[encoded data removed]",
            "text/plain": [
              "<Figure size 432x288 with 1 Axes>"
            ]
          },
          "metadata": {
            "tags": [],
            "needs_background": "light"
          }
        }
      ]
    },
    {
      "cell_type": "code",
      "metadata": {
        "id": "_fM7SWVnh8J-",
        "colab": {
          "base_uri": "https://localhost:8080/",
          "height": 307
        },
        "outputId": "a67a5a4f-a93a-4af3-eabc-f0d26d871c8b"
      },
      "source": [
        "# relationship between Revenue and Popularity\r\n",
        "\r\n",
        "sns.regplot(x=\"popularity\", y=\"revenue\", data=data, color = 'blue')"
      ],
      "execution_count": null,
      "outputs": [
        {
          "output_type": "execute_result",
          "data": {
            "text/plain": [
              "<matplotlib.axes._subplots.AxesSubplot at 0x7f7e5d3f56d8>"
            ]
          },
          "metadata": {
            "tags": []
          },
          "execution_count": 109
        },
        {
          "output_type": "display_data",
          "data": {
            "image/png": "[encoded data removed]",
            "text/plain": [
              "<Figure size 432x288 with 1 Axes>"
            ]
          },
          "metadata": {
            "tags": [],
            "needs_background": "light"
          }
        }
      ]
    },
    {
      "cell_type": "code",
      "metadata": {
        "id": "fM3ojEof0x4Z"
      },
      "source": [
        "#Droping columns with dict as already converted into list\r\n",
        "\r\n",
        "data = data.drop([\"genres\", \"cast\", \"crew\", \"production_companies\", \"production_countries\"], axis=1)\r\n"
      ],
      "execution_count": 65,
      "outputs": []
    },
    {
      "cell_type": "code",
      "metadata": {
        "id": "Bhmr7trm4txb"
      },
      "source": [
        "data = data.drop([\"release_date\"], axis=1)"
      ],
      "execution_count": 66,
      "outputs": []
    },
    {
      "cell_type": "code",
      "metadata": {
        "id": "SJwp_wiE0x_-"
      },
      "source": [
        "#selecting columns for normalization\r\n",
        "\r\n",
        "data1 = data [[\"budget\",\"popularity\",\"runtime\", \"year\", \"revenue\"]]"
      ],
      "execution_count": 67,
      "outputs": []
    },
    {
      "cell_type": "code",
      "metadata": {
        "id": "f6dGK0478Zai"
      },
      "source": [
        "from sklearn.preprocessing import StandardScaler\r\n",
        "Scalar = StandardScaler()"
      ],
      "execution_count": 68,
      "outputs": []
    },
    {
      "cell_type": "code",
      "metadata": {
        "id": "cxIZ6jjt8cXN"
      },
      "source": [
        "data1 = Scalar.fit_transform(data1)"
      ],
      "execution_count": 69,
      "outputs": []
    },
    {
      "cell_type": "code",
      "metadata": {
        "colab": {
          "base_uri": "https://localhost:8080/"
        },
        "id": "DdNRCzR79QyN",
        "outputId": "6d456e08-42f1-46e3-cc0c-e1411750d949"
      },
      "source": [
        "data1.shape"
      ],
      "execution_count": 70,
      "outputs": [
        {
          "output_type": "execute_result",
          "data": {
            "text/plain": [
              "(2812, 5)"
            ]
          },
          "metadata": {
            "tags": []
          },
          "execution_count": 70
        }
      ]
    },
    {
      "cell_type": "code",
      "metadata": {
        "id": "YOHHnRP6mv4j"
      },
      "source": [
        "#converted ndarray to dataframe\r\n",
        "\r\n",
        "new_data = pd.DataFrame(data1, columns = ['budget','popularity','runtime', 'year','revenue'])"
      ],
      "execution_count": 71,
      "outputs": []
    },
    {
      "cell_type": "code",
      "metadata": {
        "id": "SJELTVb4mzpM",
        "outputId": "8c831a5f-c3bb-4ce5-e8a5-9164123cfb4b",
        "colab": {
          "base_uri": "https://localhost:8080/",
          "height": 111
        }
      },
      "source": [
        "new_data.head(2)"
      ],
      "execution_count": 72,
      "outputs": [
        {
          "output_type": "execute_result",
          "data": {
            "text/html": [
              "<div>\n",
              "<style scoped>\n",
              "    .dataframe tbody tr th:only-of-type {\n",
              "        vertical-align: middle;\n",
              "    }\n",
              "\n",
              "    .dataframe tbody tr th {\n",
              "        vertical-align: top;\n",
              "    }\n",
              "\n",
              "    .dataframe thead th {\n",
              "        text-align: right;\n",
              "    }\n",
              "</style>\n",
              "<table border=\"1\" class=\"dataframe\">\n",
              "  <thead>\n",
              "    <tr style=\"text-align: right;\">\n",
              "      <th></th>\n",
              "      <th>budget</th>\n",
              "      <th>popularity</th>\n",
              "      <th>runtime</th>\n",
              "      <th>year</th>\n",
              "      <th>revenue</th>\n",
              "    </tr>\n",
              "  </thead>\n",
              "  <tbody>\n",
              "    <tr>\n",
              "      <th>0</th>\n",
              "      <td>-0.254473</td>\n",
              "      <td>-0.194740</td>\n",
              "      <td>-0.724451</td>\n",
              "      <td>0.604470</td>\n",
              "      <td>-0.413143</td>\n",
              "    </tr>\n",
              "    <tr>\n",
              "      <th>1</th>\n",
              "      <td>0.443369</td>\n",
              "      <td>-0.043549</td>\n",
              "      <td>0.217456</td>\n",
              "      <td>-0.072557</td>\n",
              "      <td>0.186939</td>\n",
              "    </tr>\n",
              "  </tbody>\n",
              "</table>\n",
              "</div>"
            ],
            "text/plain": [
              "     budget  popularity   runtime      year   revenue\n",
              "0 -0.254473   -0.194740 -0.724451  0.604470 -0.413143\n",
              "1  0.443369   -0.043549  0.217456 -0.072557  0.186939"
            ]
          },
          "metadata": {
            "tags": []
          },
          "execution_count": 72
        }
      ]
    },
    {
      "cell_type": "code",
      "metadata": {
        "id": "MXsIYc1kvpS2",
        "outputId": "4cf1e197-a795-498b-acfe-3509083335a3",
        "colab": {
          "base_uri": "https://localhost:8080/"
        }
      },
      "source": [
        "new_data.shape"
      ],
      "execution_count": 24,
      "outputs": [
        {
          "output_type": "execute_result",
          "data": {
            "text/plain": [
              "(2812, 5)"
            ]
          },
          "metadata": {
            "tags": []
          },
          "execution_count": 24
        }
      ]
    },
    {
      "cell_type": "code",
      "metadata": {
        "id": "l23eB2fbXb0p"
      },
      "source": [
        "#data for text columns\r\n",
        "\r\n",
        "data2 = data [[\"original_language\",\"overview\",\"genres_list\", \"cast_list\", \"crew_list\", \"production_companies_list\", \"production_countries_list\"]]"
      ],
      "execution_count": 73,
      "outputs": []
    },
    {
      "cell_type": "code",
      "metadata": {
        "colab": {
          "base_uri": "https://localhost:8080/"
        },
        "id": "Na1d3AXhVDkt",
        "outputId": "ed63a679-4cb9-4468-b181-4e5446ada988"
      },
      "source": [
        "#combine all text columns\r\n",
        "\r\n",
        "data2[\"final_text\"] = data2[\"original_language\"]+\" \"+ data2[\"overview\"]+ \" \"+data2[\"genres_list\"]+ \" \"+data2[\"cast_list\"] +\" \"+ data2[\"crew_list\"] + \" \"+ data2[\"production_companies_list\"] + \" \"+ data2[\"production_countries_list\"]"
      ],
      "execution_count": 74,
      "outputs": [
        {
          "output_type": "stream",
          "text": [
            "/usr/local/lib/python3.6/dist-packages/ipykernel_launcher.py:3: SettingWithCopyWarning: \n",
            "A value is trying to be set on a copy of a slice from a DataFrame.\n",
            "Try using .loc[row_indexer,col_indexer] = value instead\n",
            "\n",
            "See the caveats in the documentation: https://pandas.pydata.org/pandas-docs/stable/user_guide/indexing.html#returning-a-view-versus-a-copy\n",
            "  This is separate from the ipykernel package so we can avoid doing imports until\n"
          ],
          "name": "stderr"
        }
      ]
    },
    {
      "cell_type": "code",
      "metadata": {
        "id": "LI-SVlz5oGks"
      },
      "source": [
        "import nltk\r\n",
        "from nltk.corpus import stopwords\r\n",
        "from sklearn import model_selection\r\n",
        "from sklearn.feature_extraction.text import TfidfVectorizer"
      ],
      "execution_count": 75,
      "outputs": []
    },
    {
      "cell_type": "code",
      "metadata": {
        "id": "KgxJlYIsoOtS",
        "outputId": "fc44ae7f-03d3-4551-9c4e-cbc9409450ef",
        "colab": {
          "base_uri": "https://localhost:8080/"
        }
      },
      "source": [
        "nltk.download('stopwords')"
      ],
      "execution_count": 76,
      "outputs": [
        {
          "output_type": "stream",
          "text": [
            "[nltk_data] Downloading package stopwords to /root/nltk_data...\n",
            "[nltk_data]   Package stopwords is already up-to-date!\n"
          ],
          "name": "stdout"
        },
        {
          "output_type": "execute_result",
          "data": {
            "text/plain": [
              "True"
            ]
          },
          "metadata": {
            "tags": []
          },
          "execution_count": 76
        }
      ]
    },
    {
      "cell_type": "code",
      "metadata": {
        "id": "Zhlmj4UdQ-KY"
      },
      "source": [
        "#TF-IDF Vectorizer\r\n",
        "\r\n",
        "vectorizer = TfidfVectorizer(sublinear_tf=True, max_df=0.5, stop_words='english')\r\n",
        "\r\n",
        "features = vectorizer.fit_transform(data2['final_text'])"
      ],
      "execution_count": 79,
      "outputs": []
    },
    {
      "cell_type": "code",
      "metadata": {
        "id": "T6IbMrqXbCnj"
      },
      "source": [
        "dtm = features.toarray()"
      ],
      "execution_count": 81,
      "outputs": []
    },
    {
      "cell_type": "code",
      "metadata": {
        "id": "NKG3y5S1by8Y"
      },
      "source": [
        "new_data2 = pd.DataFrame(data=dtm[:,1:])"
      ],
      "execution_count": 82,
      "outputs": []
    },
    {
      "cell_type": "code",
      "metadata": {
        "colab": {
          "base_uri": "https://localhost:8080/"
        },
        "id": "HTrQPUmVcLaO",
        "outputId": "7bbc4552-39aa-4cff-887c-bfb0a8a73bf3"
      },
      "source": [
        "new_data2.shape"
      ],
      "execution_count": 83,
      "outputs": [
        {
          "output_type": "execute_result",
          "data": {
            "text/plain": [
              "(2812, 58981)"
            ]
          },
          "metadata": {
            "tags": []
          },
          "execution_count": 83
        }
      ]
    },
    {
      "cell_type": "code",
      "metadata": {
        "id": "eIsHhOYeatCW"
      },
      "source": [
        "#joining two our data\r\n",
        "\r\n",
        "main_data = pd.concat([new_data,new_data2], axis=1)"
      ],
      "execution_count": 84,
      "outputs": []
    },
    {
      "cell_type": "code",
      "metadata": {
        "id": "VtsutEkMwGSK",
        "outputId": "38de4db5-1c79-44d4-b570-7305868c5102",
        "colab": {
          "base_uri": "https://localhost:8080/"
        }
      },
      "source": [
        "main_data.shape"
      ],
      "execution_count": 85,
      "outputs": [
        {
          "output_type": "execute_result",
          "data": {
            "text/plain": [
              "(2812, 58986)"
            ]
          },
          "metadata": {
            "tags": []
          },
          "execution_count": 85
        }
      ]
    },
    {
      "cell_type": "code",
      "metadata": {
        "id": "QgUVbAdQq4yt"
      },
      "source": [
        "#independent and target variables\r\n",
        "\r\n",
        "X = main_data.drop([\"revenue\"], axis=1)\r\n",
        "y = main_data[\"revenue\"]"
      ],
      "execution_count": 86,
      "outputs": []
    },
    {
      "cell_type": "code",
      "metadata": {
        "id": "e3IPsgaxrGxN"
      },
      "source": [
        "#test/train split\r\n",
        "\r\n",
        "X_train, X_test, y_train, y_test = model_selection.train_test_split(X, y, test_size=0.2, random_state = 0, shuffle = True)\r\n"
      ],
      "execution_count": 87,
      "outputs": []
    },
    {
      "cell_type": "code",
      "metadata": {
        "id": "fp64SAx44sn_"
      },
      "source": [
        "from sklearn.feature_selection import SelectPercentile, f_classif"
      ],
      "execution_count": 88,
      "outputs": []
    },
    {
      "cell_type": "code",
      "metadata": {
        "id": "M7X4WcyF4vDu",
        "outputId": "89e4d27a-c650-4890-c025-55339fc18a76",
        "colab": {
          "base_uri": "https://localhost:8080/"
        }
      },
      "source": [
        "selector = SelectPercentile(f_classif, percentile=10)\r\n",
        "selector.fit(X_train, y_train)\r\n"
      ],
      "execution_count": 89,
      "outputs": [
        {
          "output_type": "stream",
          "text": [
            "/usr/local/lib/python3.6/dist-packages/sklearn/feature_selection/_univariate_selection.py:114: UserWarning: Features [    5     6     7 ... 58982 58983 58984] are constant.\n",
            "  UserWarning)\n",
            "/usr/local/lib/python3.6/dist-packages/sklearn/feature_selection/_univariate_selection.py:115: RuntimeWarning: divide by zero encountered in true_divide\n",
            "  f = msb / msw\n",
            "/usr/local/lib/python3.6/dist-packages/sklearn/feature_selection/_univariate_selection.py:115: RuntimeWarning: invalid value encountered in true_divide\n",
            "  f = msb / msw\n"
          ],
          "name": "stderr"
        },
        {
          "output_type": "execute_result",
          "data": {
            "text/plain": [
              "SelectPercentile(percentile=10,\n",
              "                 score_func=<function f_classif at 0x7fae3668a6a8>)"
            ]
          },
          "metadata": {
            "tags": []
          },
          "execution_count": 89
        }
      ]
    },
    {
      "cell_type": "code",
      "metadata": {
        "id": "8VoAH-I64vHJ"
      },
      "source": [
        "X_train_transformed = selector.transform(X_train)"
      ],
      "execution_count": 90,
      "outputs": []
    },
    {
      "cell_type": "code",
      "metadata": {
        "id": "E6ZWOvXW5wVy"
      },
      "source": [
        "X_test_transformed  = selector.transform(X_test)"
      ],
      "execution_count": 91,
      "outputs": []
    },
    {
      "cell_type": "code",
      "metadata": {
        "id": "wCtaLLnLrdlK",
        "outputId": "a56dee3e-aa41-471c-fc43-ccfc51debeee",
        "colab": {
          "base_uri": "https://localhost:8080/"
        }
      },
      "source": [
        "X_train_transformed.shape"
      ],
      "execution_count": 92,
      "outputs": [
        {
          "output_type": "execute_result",
          "data": {
            "text/plain": [
              "(2249, 5898)"
            ]
          },
          "metadata": {
            "tags": []
          },
          "execution_count": 92
        }
      ]
    },
    {
      "cell_type": "code",
      "metadata": {
        "id": "0TsR2_x5rmAD",
        "outputId": "637d6e3d-6fb6-4a5d-91f2-c43a59c2ae37",
        "colab": {
          "base_uri": "https://localhost:8080/"
        }
      },
      "source": [
        "X_test_transformed.shape"
      ],
      "execution_count": 93,
      "outputs": [
        {
          "output_type": "execute_result",
          "data": {
            "text/plain": [
              "(563, 5898)"
            ]
          },
          "metadata": {
            "tags": []
          },
          "execution_count": 93
        }
      ]
    },
    {
      "cell_type": "code",
      "metadata": {
        "id": "8z60M7TxatHH"
      },
      "source": [
        "#importing keras\r\n",
        "\r\n",
        "import keras\r\n",
        "import keras.backend as kb\r\n",
        "import tensorflow as tf"
      ],
      "execution_count": 94,
      "outputs": []
    },
    {
      "cell_type": "code",
      "metadata": {
        "id": "7WRxWBZlxLr_"
      },
      "source": [
        "#model creation\r\n",
        "\r\n",
        "# Initializing the ANN\r\n",
        "model = tf.keras.models.Sequential()\r\n",
        "\r\n",
        "# Adding the input layer and the first hidden layer\r\n",
        "model.add(tf.keras.layers.Dense(units=6, activation='relu'))\r\n",
        "\r\n",
        "# Adding the second hidden layer\r\n",
        "model.add(tf.keras.layers.Dense(units=6, activation='relu'))\r\n",
        "\r\n",
        "# Adding the output layer\r\n",
        "model.add(tf.keras.layers.Dense(units=1, activation='relu'))\r\n"
      ],
      "execution_count": 108,
      "outputs": []
    },
    {
      "cell_type": "code",
      "metadata": {
        "id": "XNhhEHHwtzJp",
        "outputId": "0f75e7c3-eca0-48c1-da1b-fd0793d26f88",
        "colab": {
          "base_uri": "https://localhost:8080/"
        }
      },
      "source": [
        "# Compiling the ANN\r\n",
        "model.compile(optimizer = 'adam', loss = 'mse', metrics = ['mse'])\r\n",
        "\r\n",
        "# Training the ANN on the Training set\r\n",
        "hist =model.fit(X_train_transformed, y_train, batch_size = 32, epochs = 50)"
      ],
      "execution_count": 109,
      "outputs": [
        {
          "output_type": "stream",
          "text": [
            "Epoch 1/50\n",
            "71/71 [==============================] - 1s 3ms/step - loss: 1.1294 - mse: 1.1294\n",
            "Epoch 2/50\n",
            "71/71 [==============================] - 0s 3ms/step - loss: 1.0930 - mse: 1.0930\n",
            "Epoch 3/50\n",
            "71/71 [==============================] - 0s 3ms/step - loss: 1.1079 - mse: 1.1079\n",
            "Epoch 4/50\n",
            "71/71 [==============================] - 0s 3ms/step - loss: 0.7681 - mse: 0.7681\n",
            "Epoch 5/50\n",
            "71/71 [==============================] - 0s 3ms/step - loss: 0.9409 - mse: 0.9409\n",
            "Epoch 6/50\n",
            "71/71 [==============================] - 0s 3ms/step - loss: 1.1455 - mse: 1.1455\n",
            "Epoch 7/50\n",
            "71/71 [==============================] - 0s 3ms/step - loss: 1.0161 - mse: 1.0161\n",
            "Epoch 8/50\n",
            "71/71 [==============================] - 0s 3ms/step - loss: 0.7286 - mse: 0.7286\n",
            "Epoch 9/50\n",
            "71/71 [==============================] - 0s 4ms/step - loss: 0.6138 - mse: 0.6138\n",
            "Epoch 10/50\n",
            "71/71 [==============================] - 0s 3ms/step - loss: 0.6165 - mse: 0.6165\n",
            "Epoch 11/50\n",
            "71/71 [==============================] - 0s 3ms/step - loss: 0.4810 - mse: 0.4810\n",
            "Epoch 12/50\n",
            "71/71 [==============================] - 0s 3ms/step - loss: 0.4491 - mse: 0.4491\n",
            "Epoch 13/50\n",
            "71/71 [==============================] - 0s 3ms/step - loss: 0.3443 - mse: 0.3443\n",
            "Epoch 14/50\n",
            "71/71 [==============================] - 0s 3ms/step - loss: 0.4061 - mse: 0.4061\n",
            "Epoch 15/50\n",
            "71/71 [==============================] - 0s 3ms/step - loss: 0.2655 - mse: 0.2655\n",
            "Epoch 16/50\n",
            "71/71 [==============================] - 0s 3ms/step - loss: 0.2933 - mse: 0.2933\n",
            "Epoch 17/50\n",
            "71/71 [==============================] - 0s 3ms/step - loss: 0.2970 - mse: 0.2970\n",
            "Epoch 18/50\n",
            "71/71 [==============================] - 0s 3ms/step - loss: 0.2994 - mse: 0.2994\n",
            "Epoch 19/50\n",
            "71/71 [==============================] - 0s 3ms/step - loss: 0.2502 - mse: 0.2502\n",
            "Epoch 20/50\n",
            "71/71 [==============================] - 0s 3ms/step - loss: 0.2405 - mse: 0.2405\n",
            "Epoch 21/50\n",
            "71/71 [==============================] - 0s 3ms/step - loss: 0.1922 - mse: 0.1922\n",
            "Epoch 22/50\n",
            "71/71 [==============================] - 0s 3ms/step - loss: 0.1997 - mse: 0.1997\n",
            "Epoch 23/50\n",
            "71/71 [==============================] - 0s 3ms/step - loss: 0.1846 - mse: 0.1846\n",
            "Epoch 24/50\n",
            "71/71 [==============================] - 0s 3ms/step - loss: 0.1823 - mse: 0.1823\n",
            "Epoch 25/50\n",
            "71/71 [==============================] - 0s 3ms/step - loss: 0.1589 - mse: 0.1589\n",
            "Epoch 26/50\n",
            "71/71 [==============================] - 0s 3ms/step - loss: 0.1643 - mse: 0.1643\n",
            "Epoch 27/50\n",
            "71/71 [==============================] - 0s 4ms/step - loss: 0.1526 - mse: 0.1526\n",
            "Epoch 28/50\n",
            "71/71 [==============================] - 0s 4ms/step - loss: 0.1650 - mse: 0.1650\n",
            "Epoch 29/50\n",
            "71/71 [==============================] - 0s 3ms/step - loss: 0.1493 - mse: 0.1493\n",
            "Epoch 30/50\n",
            "71/71 [==============================] - 0s 3ms/step - loss: 0.1623 - mse: 0.1623\n",
            "Epoch 31/50\n",
            "71/71 [==============================] - 0s 4ms/step - loss: 0.1522 - mse: 0.1522\n",
            "Epoch 32/50\n",
            "71/71 [==============================] - 0s 4ms/step - loss: 0.1423 - mse: 0.1423\n",
            "Epoch 33/50\n",
            "71/71 [==============================] - 0s 3ms/step - loss: 0.1544 - mse: 0.1544\n",
            "Epoch 34/50\n",
            "71/71 [==============================] - 0s 3ms/step - loss: 0.1390 - mse: 0.1390\n",
            "Epoch 35/50\n",
            "71/71 [==============================] - 0s 4ms/step - loss: 0.1364 - mse: 0.1364\n",
            "Epoch 36/50\n",
            "71/71 [==============================] - 0s 3ms/step - loss: 0.1379 - mse: 0.1379\n",
            "Epoch 37/50\n",
            "71/71 [==============================] - 0s 3ms/step - loss: 0.1379 - mse: 0.1379\n",
            "Epoch 38/50\n",
            "71/71 [==============================] - 0s 3ms/step - loss: 0.1373 - mse: 0.1373\n",
            "Epoch 39/50\n",
            "71/71 [==============================] - 0s 3ms/step - loss: 0.1327 - mse: 0.1327\n",
            "Epoch 40/50\n",
            "71/71 [==============================] - 0s 3ms/step - loss: 0.1314 - mse: 0.1314\n",
            "Epoch 41/50\n",
            "71/71 [==============================] - 0s 4ms/step - loss: 0.1292 - mse: 0.1292\n",
            "Epoch 42/50\n",
            "71/71 [==============================] - 0s 3ms/step - loss: 0.1353 - mse: 0.1353\n",
            "Epoch 43/50\n",
            "71/71 [==============================] - 0s 3ms/step - loss: 0.1376 - mse: 0.1376\n",
            "Epoch 44/50\n",
            "71/71 [==============================] - 0s 3ms/step - loss: 0.1371 - mse: 0.1371\n",
            "Epoch 45/50\n",
            "71/71 [==============================] - 0s 3ms/step - loss: 0.1320 - mse: 0.1320\n",
            "Epoch 46/50\n",
            "71/71 [==============================] - 0s 3ms/step - loss: 0.1355 - mse: 0.1355\n",
            "Epoch 47/50\n",
            "71/71 [==============================] - 0s 4ms/step - loss: 0.1335 - mse: 0.1335\n",
            "Epoch 48/50\n",
            "71/71 [==============================] - 0s 3ms/step - loss: 0.1300 - mse: 0.1300\n",
            "Epoch 49/50\n",
            "71/71 [==============================] - 0s 3ms/step - loss: 0.1257 - mse: 0.1257\n",
            "Epoch 50/50\n",
            "71/71 [==============================] - 0s 3ms/step - loss: 0.1270 - mse: 0.1270\n"
          ],
          "name": "stdout"
        }
      ]
    },
    {
      "cell_type": "code",
      "metadata": {
        "id": "yal86PkZ1X4r"
      },
      "source": [
        "#"
      ],
      "execution_count": 105,
      "outputs": []
    }
  ]
}